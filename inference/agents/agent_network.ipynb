{
 "cells": [
  {
   "cell_type": "code",
   "id": "4c41b9ae06629cbe",
   "metadata": {
    "ExecuteTime": {
     "end_time": "2025-02-27T09:33:02.141283Z",
     "start_time": "2025-02-27T09:33:02.131410Z"
    }
   },
   "source": [
    "# secure you have the corresponding api keys\n",
    "from typing import Annotated\n",
    "from langchain_openai import ChatOpenAI\n",
    "from langchain_core.tools import tool\n",
    "from langchain_experimental.utilities import PythonREPL\n",
    "\n",
    "from agents.prepare_tools import available_tools\n",
    "\n",
    "repl = PythonREPL()\n",
    "\n",
    "@tool\n",
    "def python_repl_tool(\n",
    "    code: Annotated[str, \"The python code to execute to generate your chart.\"],\n",
    "):\n",
    "    \"\"\"Use this to execute python code. If you want to see the output of a value,\n",
    "    you should print it out with `print(...)`. This is visible to the user.\"\"\"\n",
    "    try:\n",
    "        result = repl.run(code)\n",
    "    except BaseException as e:\n",
    "        return f\"Failed to execute. Error: {repr(e)}\"\n",
    "    result_str = f\"Successfully executed:\\n\\`\\`\\`python\\n{code}\\n\\`\\`\\`\\nStdout: {result}\"\n",
    "    return (\n",
    "        result_str + \"\\n\\nIf you have completed all tasks, respond with FINAL ANSWER.\"\n",
    "    )\n",
    "\n",
    "\n",
    "def make_system_prompt(suffix: str) -> str:\n",
    "    return (\n",
    "        \"You are a helpful AI assistant, collaborating with other assistants.\"\n",
    "        \" The User will ask questions, and you should handle them to the best of your ability.\"\n",
    "        \" You are provided with a list of tool names and their descriptions.\"\n",
    "        \" For each question, try to identify the most suitable tool that can help solve the task.\"\n",
    "        \" If you need a tool for the task, give the tool name first with a single sentence like 'Gmail toolkit.', and then make brief explanation.\"\n",
    "        \" If you don’t need any tool for the task, first reply with 'I don't need a tool for this task.' and then provide your solution.\"\n",
    "        \" If none of the available tools can help you with the task, reply with 'No tool can solve this task.' first, and then pass the task to the next assistant.\"\n",
    "        \" Execute what you can to make progress. If you or any of the other assistants have the final answer or deliverable, prefix your response with 'FINAL ANSWER' so the team knows to stop.\"\n",
    "        f\"\\n{suffix}\"\n",
    "    )\n",
    "\n",
    "print(\"Tools are loaded.\"\n",
    "      f\"{available_tools}\")"
   ],
   "outputs": [
    {
     "name": "stdout",
     "output_type": "stream",
     "text": [
      "Tools are loaded.[DuckDuckGoSearchResults(max_results=2, api_wrapper=DuckDuckGoSearchAPIWrapper(region='wt-wt', safesearch='moderate', time='y', max_results=5, backend='auto', source='text'))]\n"
     ]
    }
   ],
   "execution_count": 23
  },
  {
   "metadata": {
    "collapsed": true,
    "ExecuteTime": {
     "end_time": "2025-02-27T09:33:02.247651Z",
     "start_time": "2025-02-27T09:33:02.145799Z"
    }
   },
   "cell_type": "code",
   "source": [
    "from typing import Literal\n",
    "from langchain_core.messages import BaseMessage, HumanMessage\n",
    "from langgraph.prebuilt import create_react_agent\n",
    "from langgraph.graph import MessagesState, END\n",
    "from langgraph.types import Command\n",
    "\n",
    "def get_next_node(last_message: BaseMessage, goto: str):\n",
    "    if \"FINAL ANSWER\" in last_message.content:\n",
    "        # Any agent decided the work is done\n",
    "        return END\n",
    "    return goto\n",
    "\n",
    "\n",
    "# Research agent and node\n",
    "llm1 = ChatOpenAI(model=\"gpt-4o-mini\")\n",
    "collaborating_agent1 = create_react_agent(\n",
    "    llm1,\n",
    "    tools=available_tools,\n",
    "    prompt=make_system_prompt(\n",
    "        \"You can only do research. You are working with a chart generator colleague.\"\n",
    "    ),\n",
    ")\n",
    "\n",
    "# START->colleague1v->colleague2\n",
    "def collaborating_node1(\n",
    "    state: MessagesState,\n",
    ") -> Command[Literal[\"colleague2\", END]]:\n",
    "    result = collaborating_agent2.invoke(state)\n",
    "    goto = get_next_node(result[\"messages\"][-1], \"colleague2\")\n",
    "    # wrap in a human message, as not all providers allow\n",
    "    # AI message at the last position of the input messages list\n",
    "    result[\"messages\"][-1] = HumanMessage(\n",
    "        content=result[\"messages\"][-1].content, name=\"researcher\"\n",
    "    )\n",
    "    return Command(\n",
    "        update={\n",
    "            # share internal message history of research agent with other agents\n",
    "            \"messages\": result[\"messages\"],\n",
    "        },\n",
    "        goto=goto,\n",
    "    )\n",
    "\n",
    "llm2 = ChatOpenAI(model=\"gpt-4o-mini\")\n",
    "collaborating_agent2 = create_react_agent(\n",
    "    llm2,\n",
    "    tools=available_tools,\n",
    "    prompt=make_system_prompt(\n",
    "        \"You can only generate charts. You are working with a researcher colleague.\"\n",
    "    ),\n",
    ")\n",
    "\n",
    "# colleague2->END\n",
    "def collaborating_node2(\n",
    "    state: MessagesState,\n",
    ") -> Command[Literal[END]]:\n",
    "    result = collaborating_agent1.invoke(state)\n",
    "    goto = get_next_node(result[\"messages\"][-1], END)\n",
    "    # wrap in a human message, as not all providers allow\n",
    "    # AI message at the last position of the input messages list\n",
    "    result[\"messages\"][-1] = HumanMessage(\n",
    "        content=result[\"messages\"][-1].content, name=\"researcher\"\n",
    "    )\n",
    "    return Command(\n",
    "        update={\n",
    "            # share internal message history of research agent with other agents\n",
    "            \"messages\": result[\"messages\"],\n",
    "        },\n",
    "        goto=goto,\n",
    "    )\n",
    "# def chart_node(state: MessagesState) -> Command[Literal[\"researcher\", END]]:\n",
    "#     result = chart_agent.invoke(state)\n",
    "#     goto = get_next_node(result[\"messages\"][-1], \"researcher\")\n",
    "#     # wrap in a human message, as not all providers allow\n",
    "#     # AI message at the last position of the input messages list\n",
    "#     result[\"messages\"][-1] = HumanMessage(\n",
    "#         content=result[\"messages\"][-1].content, name=\"chart_generator\"\n",
    "#     )\n",
    "#     return Command(\n",
    "#         update={\n",
    "#             # share internal message history of chart agent with other agents\n",
    "#             \"messages\": result[\"messages\"],\n",
    "#         },\n",
    "#         goto=goto,\n",
    "#     )"
   ],
   "id": "initial_id",
   "outputs": [],
   "execution_count": 24
  },
  {
   "metadata": {
    "ExecuteTime": {
     "end_time": "2025-02-27T09:33:02.261105Z",
     "start_time": "2025-02-27T09:33:02.255233Z"
    }
   },
   "cell_type": "code",
   "source": [
    "from langgraph.graph import StateGraph, START\n",
    "\n",
    "workflow = StateGraph(MessagesState)\n",
    "workflow.add_node(\"colleague1\", collaborating_node1)\n",
    "workflow.add_node(\"colleague2\", collaborating_node2)\n",
    "\n",
    "workflow.add_edge(START, \"colleague1\")\n",
    "graph = workflow.compile()"
   ],
   "id": "d4fb33d6699f0f7e",
   "outputs": [],
   "execution_count": 25
  },
  {
   "metadata": {
    "ExecuteTime": {
     "end_time": "2025-02-27T09:33:02.554168Z",
     "start_time": "2025-02-27T09:33:02.269975Z"
    }
   },
   "cell_type": "code",
   "source": [
    "from IPython.display import Image, display\n",
    "\n",
    "print(\"This is the network graph.\")\n",
    "try:\n",
    "    display(Image(graph.get_graph().draw_mermaid_png()))\n",
    "except Exception:\n",
    "    # This requires some extra dependencies and is optional\n",
    "    pass"
   ],
   "id": "d4e88187010bf4df",
   "outputs": [
    {
     "name": "stdout",
     "output_type": "stream",
     "text": [
      "This is the network graph.\n"
     ]
    },
    {
     "data": {
      "image/png": "[encoded data removed]",
      "text/plain": [
       "<IPython.core.display.Image object>"
      ]
     },
     "metadata": {},
     "output_type": "display_data"
    }
   ],
   "execution_count": 26
  },
  {
   "metadata": {
    "ExecuteTime": {
     "end_time": "2025-02-27T09:33:14.224923Z",
     "start_time": "2025-02-27T09:33:06.856603Z"
    }
   },
   "cell_type": "code",
   "source": [
    "events = graph.stream(\n",
    "    {\n",
    "        \"messages\": [\n",
    "            (\n",
    "                \"user\",\n",
    "                \"How is the weather in WuHan? \"\n",
    "            )\n",
    "        ],\n",
    "    },\n",
    "    # Maximum number of steps to take in the graph\n",
    "    {\"recursion_limit\": 150},\n",
    ")\n",
    "for s in events:\n",
    "    print(s)\n",
    "    print(\"----\")"
   ],
   "id": "263c86d132c7a89a",
   "outputs": [
    {
     "name": "stdout",
     "output_type": "stream",
     "text": [
      "{'colleague1': {'messages': [HumanMessage(content='How is the weather in WuHan? ', additional_kwargs={}, response_metadata={}, id='37c4f7e9-f806-4632-82a3-a6eceb0b51fe'), AIMessage(content='', additional_kwargs={'tool_calls': [{'id': 'call_zb0ZTynkcF0hVWl3PUu3HsJb', 'function': {'arguments': '{\"query\":\"current weather in WuHan\"}', 'name': 'duckduckgo_results_json'}, 'type': 'function'}], 'refusal': None}, response_metadata={'token_usage': {'completion_tokens': 23, 'prompt_tokens': 293, 'total_tokens': 316, 'completion_tokens_details': {'accepted_prediction_tokens': 0, 'audio_tokens': 0, 'reasoning_tokens': 0, 'rejected_prediction_tokens': 0}, 'prompt_tokens_details': {'audio_tokens': 0, 'cached_tokens': 0}}, 'model_name': 'gpt-4o-mini-2024-07-18', 'system_fingerprint': 'fp_709714d124', 'finish_reason': 'tool_calls', 'logprobs': None}, id='run-a8d6d379-8c08-4e77-b203-f0734f6a40eb-0', tool_calls=[{'name': 'duckduckgo_results_json', 'args': {'query': 'current weather in WuHan'}, 'id': 'call_zb0ZTynkcF0hVWl3PUu3HsJb', 'type': 'tool_call'}], usage_metadata={'input_tokens': 293, 'output_tokens': 23, 'total_tokens': 316, 'input_token_details': {'audio': 0, 'cache_read': 0}, 'output_token_details': {'audio': 0, 'reasoning': 0}}), ToolMessage(content=\"snippet: Current weather is haze. The temperature and wind chill are 11 °C. The dew point is 3 °C, the relative humidity is 58%. The air pressure at sea level is 1029 hPa (QNH). Daylight period. Today the sun rises at 07:00 and sets at 18:13. This applies to Wuhan Tianhe International Airport, the universal daylight period may be different., title: METAR ZHHH - Wuhan Tianhe International Airport, Wuhan, China, link: https://metar-taf.com/ZHHH, snippet: Wuhan weather forecast for today is based on the most current and sophisticated meteorological models available. While we strive for accuracy, weather conditions can change unexpectedly, so we recommend checking for updates regularly., title: Today's Weather in Wuhan - Hourly Forecast and Conditions, link: https://www.easeweather.com/asia/china/hubei/wuhan-shi/wuhan/today\", name='duckduckgo_results_json', id='36db8c41-f238-4e76-a177-c353239b961e', tool_call_id='call_zb0ZTynkcF0hVWl3PUu3HsJb', artifact=[{'snippet': 'Current weather is haze. The temperature and wind chill are 11 °C. The dew point is 3 °C, the relative humidity is 58%. The air pressure at sea level is 1029 hPa (QNH). Daylight period. Today the sun rises at 07:00 and sets at 18:13. This applies to Wuhan Tianhe International Airport, the universal daylight period may be different.', 'title': 'METAR ZHHH - Wuhan Tianhe International Airport, Wuhan, China', 'link': 'https://metar-taf.com/ZHHH'}, {'snippet': 'Wuhan weather forecast for today is based on the most current and sophisticated meteorological models available. While we strive for accuracy, weather conditions can change unexpectedly, so we recommend checking for updates regularly.', 'title': \"Today's Weather in Wuhan - Hourly Forecast and Conditions\", 'link': 'https://www.easeweather.com/asia/china/hubei/wuhan-shi/wuhan/today'}]), HumanMessage(content=\"I don't need a tool for this task. \\n\\nThe current weather in Wuhan is hazy, with a temperature of 11 °C. The dew point is 3 °C, and the relative humidity is 58%. The air pressure is 1029 hPa. It is currently daylight, with sunrise at 07:00 and sunset at 18:13. For more details, you can check the [weather forecast here](https://www.easeweather.com/asia/china/hubei/wuhan-shi/wuhan/today).\", additional_kwargs={}, response_metadata={}, name='researcher', id='4b5a6291-618d-4c4a-a588-0e7d087977c2')]}}\n",
      "----\n",
      "{'colleague2': {'messages': [HumanMessage(content='How is the weather in WuHan? ', additional_kwargs={}, response_metadata={}, id='37c4f7e9-f806-4632-82a3-a6eceb0b51fe'), AIMessage(content='', additional_kwargs={'tool_calls': [{'id': 'call_zb0ZTynkcF0hVWl3PUu3HsJb', 'function': {'arguments': '{\"query\":\"current weather in WuHan\"}', 'name': 'duckduckgo_results_json'}, 'type': 'function'}], 'refusal': None}, response_metadata={'token_usage': {'completion_tokens': 23, 'prompt_tokens': 293, 'total_tokens': 316, 'completion_tokens_details': {'accepted_prediction_tokens': 0, 'audio_tokens': 0, 'reasoning_tokens': 0, 'rejected_prediction_tokens': 0}, 'prompt_tokens_details': {'audio_tokens': 0, 'cached_tokens': 0}}, 'model_name': 'gpt-4o-mini-2024-07-18', 'system_fingerprint': 'fp_709714d124', 'finish_reason': 'tool_calls', 'logprobs': None}, id='run-a8d6d379-8c08-4e77-b203-f0734f6a40eb-0', tool_calls=[{'name': 'duckduckgo_results_json', 'args': {'query': 'current weather in WuHan'}, 'id': 'call_zb0ZTynkcF0hVWl3PUu3HsJb', 'type': 'tool_call'}], usage_metadata={'input_tokens': 293, 'output_tokens': 23, 'total_tokens': 316, 'input_token_details': {'audio': 0, 'cache_read': 0}, 'output_token_details': {'audio': 0, 'reasoning': 0}}), ToolMessage(content=\"snippet: Current weather is haze. The temperature and wind chill are 11 °C. The dew point is 3 °C, the relative humidity is 58%. The air pressure at sea level is 1029 hPa (QNH). Daylight period. Today the sun rises at 07:00 and sets at 18:13. This applies to Wuhan Tianhe International Airport, the universal daylight period may be different., title: METAR ZHHH - Wuhan Tianhe International Airport, Wuhan, China, link: https://metar-taf.com/ZHHH, snippet: Wuhan weather forecast for today is based on the most current and sophisticated meteorological models available. While we strive for accuracy, weather conditions can change unexpectedly, so we recommend checking for updates regularly., title: Today's Weather in Wuhan - Hourly Forecast and Conditions, link: https://www.easeweather.com/asia/china/hubei/wuhan-shi/wuhan/today\", name='duckduckgo_results_json', id='36db8c41-f238-4e76-a177-c353239b961e', tool_call_id='call_zb0ZTynkcF0hVWl3PUu3HsJb', artifact=[{'snippet': 'Current weather is haze. The temperature and wind chill are 11 °C. The dew point is 3 °C, the relative humidity is 58%. The air pressure at sea level is 1029 hPa (QNH). Daylight period. Today the sun rises at 07:00 and sets at 18:13. This applies to Wuhan Tianhe International Airport, the universal daylight period may be different.', 'title': 'METAR ZHHH - Wuhan Tianhe International Airport, Wuhan, China', 'link': 'https://metar-taf.com/ZHHH'}, {'snippet': 'Wuhan weather forecast for today is based on the most current and sophisticated meteorological models available. While we strive for accuracy, weather conditions can change unexpectedly, so we recommend checking for updates regularly.', 'title': \"Today's Weather in Wuhan - Hourly Forecast and Conditions\", 'link': 'https://www.easeweather.com/asia/china/hubei/wuhan-shi/wuhan/today'}]), HumanMessage(content=\"I don't need a tool for this task. \\n\\nThe current weather in Wuhan is hazy, with a temperature of 11 °C. The dew point is 3 °C, and the relative humidity is 58%. The air pressure is 1029 hPa. It is currently daylight, with sunrise at 07:00 and sunset at 18:13. For more details, you can check the [weather forecast here](https://www.easeweather.com/asia/china/hubei/wuhan-shi/wuhan/today).\", additional_kwargs={}, response_metadata={}, name='researcher', id='4b5a6291-618d-4c4a-a588-0e7d087977c2'), HumanMessage(content='FINAL ANSWER: The current weather in Wuhan is hazy, with a temperature of 11 °C. The dew point is 3 °C, and the relative humidity is 58%. The air pressure is 1029 hPa. It is currently daylight, with sunrise at 07:00 and sunset at 18:13. For more details, you can check the [weather forecast here](https://www.easeweather.com/asia/china/hubei/wuhan-shi/wuhan/today).', additional_kwargs={}, response_metadata={}, name='researcher', id='f668b618-d0b2-4f84-8675-30e54bdb6039')]}}\n",
      "----\n"
     ]
    }
   ],
   "execution_count": 27
  }
 ],
 "metadata": {
  "kernelspec": {
   "display_name": "Python 3",
   "language": "python",
   "name": "python3"
  },
  "language_info": {
   "codemirror_mode": {
    "name": "ipython",
    "version": 2
   },
   "file_extension": ".py",
   "mimetype": "text/x-python",
   "name": "python",
   "nbconvert_exporter": "python",
   "pygments_lexer": "ipython2",
   "version": "2.7.6"
  }
 },
 "nbformat": 4,
 "nbformat_minor": 5
}
